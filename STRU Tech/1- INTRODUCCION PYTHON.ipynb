{
 "cells": [
  {
   "cell_type": "markdown",
   "metadata": {},
   "source": [
    "## Docente: Luis Enrique Maldonado de la Torre\n",
    "\n",
    "LinkedIn: https://www.linkedin.com/in/luis-maldonado-de-la-torre/"
   ]
  },
  {
   "cell_type": "markdown",
   "metadata": {},
   "source": [
    "<img src=\"img/Python-logo.png\" style=\"float:right\" width=\"350\">\n",
    "\n",
    "**Principales caracteristicas de Python**\n",
    "\n",
    "- Es un lenguaje de programación de alto nivel, expresa sus algoritmos de una manera adecuada muy cercanos a la cognición humana.\n",
    "\n",
    "- Es multipropósito con aplicaciones en numerosas áreas como desarrollo web, big data, Data Science,computación científica e inteligencia artificial.\n",
    "\n",
    "- Es un lenguaje interpretado, es procesado en tiempo de ejecución por el intérprete, no es necesario compilar su programa antes de ejecutarlo.\n",
    "\n",
    "- Es de tipado dinámico no es necesario declarar el tipo de dato que va a contener una determinada variables.\n",
    "\n",
    "Es muy popular y utilizado por organizaciones como Google, NASA, Netflix, Yahoo, Spotify, Instagram."
   ]
  },
  {
   "attachments": {},
   "cell_type": "markdown",
   "metadata": {},
   "source": [
    "Declaramos las variables ‘a’ y ‘b’ luego le asignamos los valores de 3 y 4, finalmente sumamos ambas variables posteriormente imprimimos el valor."
   ]
  },
  {
   "cell_type": "code",
   "execution_count": null,
   "metadata": {},
   "outputs": [
    {
     "name": "stdout",
     "output_type": "stream",
     "text": [
      "4\n"
     ]
    }
   ],
   "source": [
    "a = 3\n",
    "b = 4\n",
    "c = a + b \n",
    "print(b)        \n",
    "# print(type(c))"
   ]
  },
  {
   "attachments": {},
   "cell_type": "markdown",
   "metadata": {},
   "source": [
    "Podemos asignar el nombre que queramos, respetando no usar las palabras reservadas de Python ni espacios, guiones o números al principio."
   ]
  },
  {
   "cell_type": "code",
   "execution_count": null,
   "metadata": {},
   "outputs": [],
   "source": [
    "# Válido\n",
    "_variable = 10\n",
    "variable = 20"
   ]
  },
  {
   "cell_type": "code",
   "execution_count": 12,
   "metadata": {},
   "outputs": [
    {
     "name": "stdout",
     "output_type": "stream",
     "text": [
      "20\n"
     ]
    }
   ],
   "source": [
    "print(variable)"
   ]
  },
  {
   "cell_type": "markdown",
   "metadata": {},
   "source": [
    "actualizando el valor de la variable"
   ]
  },
  {
   "cell_type": "code",
   "execution_count": 4,
   "metadata": {},
   "outputs": [
    {
     "name": "stdout",
     "output_type": "stream",
     "text": [
      "30.25\n"
     ]
    }
   ],
   "source": [
    "variable = 60.5/2\n",
    "print(variable)"
   ]
  },
  {
   "cell_type": "code",
   "execution_count": 8,
   "metadata": {},
   "outputs": [],
   "source": [
    "# print(variable)\n",
    "variable10 = 30\n",
    "variaBle = 10"
   ]
  },
  {
   "attachments": {},
   "cell_type": "markdown",
   "metadata": {},
   "source": [
    "Los siguientes ejemplos no son permitidos"
   ]
  },
  {
   "attachments": {},
   "cell_type": "markdown",
   "metadata": {},
   "source": [
    "```python\n",
    "# No válido\n",
    "2variable = 10\n",
    "var-iable = 10\n",
    "var iable = 10\n",
    "```"
   ]
  },
  {
   "attachments": {},
   "cell_type": "markdown",
   "metadata": {},
   "source": [
    "El tipo numérico float permite representar un número positivo, negativo, con decimales , es decir, números reales."
   ]
  },
  {
   "cell_type": "code",
   "execution_count": 22,
   "metadata": {},
   "outputs": [
    {
     "name": "stdout",
     "output_type": "stream",
     "text": [
      "<class 'float'>\n"
     ]
    }
   ],
   "source": [
    "print(type(5.1))"
   ]
  },
  {
   "cell_type": "code",
   "execution_count": 5,
   "metadata": {},
   "outputs": [
    {
     "name": "stdout",
     "output_type": "stream",
     "text": [
      "6.5\n",
      "61.5345453\n"
     ]
    }
   ],
   "source": [
    "a = 2\n",
    "b = 4.5\n",
    "c = a + b\n",
    "d = 61.5345453\n",
    "\n",
    "print(c)\n",
    "print(d)"
   ]
  },
  {
   "attachments": {},
   "cell_type": "markdown",
   "metadata": {},
   "source": [
    "Variable Booleana o bool (bool)"
   ]
  },
  {
   "cell_type": "code",
   "execution_count": 10,
   "metadata": {},
   "outputs": [
    {
     "name": "stdout",
     "output_type": "stream",
     "text": [
      "False\n"
     ]
    }
   ],
   "source": [
    "# print (1 == 1)\n",
    "\n",
    "# print( 2 == 1)\n",
    "# print(type (\"a\" == \"b\"))\n",
    "print(\"hola\" == \"Hola\")"
   ]
  },
  {
   "cell_type": "code",
   "execution_count": 8,
   "metadata": {},
   "outputs": [
    {
     "name": "stdout",
     "output_type": "stream",
     "text": [
      "False\n",
      "True\n",
      "False\n",
      "True\n",
      "True\n"
     ]
    }
   ],
   "source": [
    "a = 5\n",
    "b = 10\n",
    "print(a == b)       # False\n",
    "print(a != b)       # True\n",
    "print(a > b)        # False\n",
    "print(a < b)        # True\n",
    "print(a <= b)       # True"
   ]
  },
  {
   "attachments": {},
   "cell_type": "markdown",
   "metadata": {},
   "source": [
    "Las cadenas en Python o strings son un tipo inmutable que permite almacenar secuencias de caracteres"
   ]
  },
  {
   "cell_type": "code",
   "execution_count": 18,
   "metadata": {},
   "outputs": [
    {
     "name": "stdout",
     "output_type": "stream",
     "text": [
      "77777777\n"
     ]
    }
   ],
   "source": [
    "alfabeto = \"abcdefghijklmnñopqrstuvwxyz123456789\"\n",
    "cadena = \"Luis Maldonado\"\n",
    "# print(cadena)\n",
    "print(alfabeto[-3]*8)\n",
    "# print(alfabeto[1])\n",
    "# print(type(alfabeto))    # string"
   ]
  },
  {
   "attachments": {},
   "cell_type": "markdown",
   "metadata": {},
   "source": [
    "# Estructuras de Control de Flujos"
   ]
  },
  {
   "attachments": {},
   "cell_type": "markdown",
   "metadata": {},
   "source": [
    "*Uso del if*\n",
    "\n",
    "Un ejemplo sería si tenemos dos valores a y b que queremos dividir. Antes de entrar en el bloque de código que divide a/b, sería importante verificar que b es distinto de cero, ya que la división por cero no está definida. Es aquí donde entran los condicionales if."
   ]
  },
  {
   "cell_type": "code",
   "execution_count": 57,
   "metadata": {},
   "outputs": [],
   "source": [
    "a = 50\n",
    "b = 0\n",
    "\n",
    "if b != 0:\n",
    "  print(a/b)"
   ]
  },
  {
   "cell_type": "code",
   "execution_count": 59,
   "metadata": {},
   "outputs": [],
   "source": [
    "if 10 <= 5:\n",
    "    print(\"10 es mayor que 5\")\n",
    "    print(\"El programa terminó\")"
   ]
  },
  {
   "cell_type": "code",
   "execution_count": 20,
   "metadata": {},
   "outputs": [
    {
     "name": "stdout",
     "output_type": "stream",
     "text": [
      "7 es diferente de 6\n",
      "El programa terminó\n"
     ]
    }
   ],
   "source": [
    "if 7 != 6:\n",
    "    print(\"7 es diferente de 6\")\n",
    "    print(\"El programa terminó\")"
   ]
  },
  {
   "attachments": {},
   "cell_type": "markdown",
   "metadata": {},
   "source": [
    "## Uso de bucles for\n",
    "\n",
    "El for es un tipo de bucle, parecido al while pero con ciertas diferencias. La principal diferencia es que el número de iteraciones de un for esta definido de antemano, mientras que en un while no. La diferencia principal con respecto al while es en la condición. Mientras que en el while la condición era evaluada en cada iteración para decidir si volver a ejecutar o no el código, en el for no existe tal condición, sino un iterable que define las veces que se ejecutará el código. En el siguiente ejemplo vemos un bucle for que se ejecuta 5 veces, y donde la i incrementa su valor “automáticamente” en 1 en cada iteración."
   ]
  },
  {
   "cell_type": "code",
   "execution_count": 21,
   "metadata": {},
   "outputs": [
    {
     "name": "stdout",
     "output_type": "stream",
     "text": [
      "iteracion # 1\n",
      "0\n",
      "iteracion # 2\n",
      "1\n",
      "iteracion # 3\n",
      "2\n",
      "iteracion # 4\n",
      "3\n",
      "iteracion # 5\n",
      "4\n"
     ]
    }
   ],
   "source": [
    "for iterador in range(5):\n",
    "    print(\"iteracion #\", iterador+1)\n",
    "    print(iterador)"
   ]
  },
  {
   "cell_type": "code",
   "execution_count": 66,
   "metadata": {},
   "outputs": [
    {
     "name": "stdout",
     "output_type": "stream",
     "text": [
      "0\n",
      "1\n",
      "2\n",
      "3\n",
      "4\n"
     ]
    }
   ],
   "source": [
    "for i in range(5):\n",
    "    print(i)"
   ]
  },
  {
   "cell_type": "code",
   "execution_count": 68,
   "metadata": {},
   "outputs": [
    {
     "name": "stdout",
     "output_type": "stream",
     "text": [
      "5\n",
      "el codigo se ejecuto #1\n",
      "6\n",
      "el codigo se ejecuto #2\n",
      "7\n",
      "el codigo se ejecuto #3\n",
      "8\n",
      "el codigo se ejecuto #4\n",
      "9\n",
      "el codigo se ejecuto #5\n",
      "10\n",
      "el codigo se ejecuto #6\n"
     ]
    }
   ],
   "source": [
    "contador = 1\n",
    "for i in range(5, 11):\n",
    "  print(i)\n",
    "  print(f\"el codigo se ejecuto #{contador}\")\n",
    "  contador +=  1"
   ]
  },
  {
   "attachments": {},
   "cell_type": "markdown",
   "metadata": {},
   "source": [
    "## FUNCIONES\n",
    "\n",
    "**Función.** Una función en Python es una pieza de código reutilizable que solo se ejecuta cuando es llamada. Se define usando la palabra reservada def y su estructura general es la siguiente:\n",
    "\n",
    "```python\n",
    "def nombre_funcion(input1, input2, ..., inputn):\n",
    "  cuerpo de la función\n",
    "  return output\n",
    "```\n",
    "\n",
    "**Observación 1.** La instrucción return finaliza la ejecución de la función y devuelve el resultado que se indica a continuación. Si no se indicase nada, la función finalizaría, pero no retornaría nada.\n",
    "\n",
    "Como hemos visto, en general, las funciones constan de 3 partes:\n",
    "\n",
    "- **Inputs (parámetros o argumentos).** Son los valores que le pasamos como entrada a la función.\n",
    "- **Cuerpo.** Son todas las operaciones que lleva a cabo la función.\n",
    "- **Output.** Es el resultado que devuelve la función.\n",
    "\n",
    "\n",
    "**Observación 2.** Los parámetros son variables internas de la función. Si probásemos a ejecutar una de dichas variables en el entorno global, nos saltaría un error. Este tema lo trataremos más en detalle más adelante.\n",
    "\n",
    "Con lo visto anteriormente, a la hora de construir una función hay que hacerse las siguientes preguntas:\n",
    "\n",
    "- ¿Qué datos necesita conocer la función? (inputs)\n",
    "- ¿Qué hace la función? (cuerpo)\n",
    "- ¿Qué devuelve? (output)\n",
    "\n",
    "\n",
    "**Observación 3.** Los inputs y el output son opcionales: podemos definir una función sin necesidad de proporcionarle inputs y sin que nos devuelva nada. Una vez definida una función, para llamarla utilizamos su nombre seguido de paréntesis:"
   ]
  },
  {
   "cell_type": "code",
   "execution_count": 76,
   "metadata": {},
   "outputs": [],
   "source": [
    "def mi_primera_funcion(nombre = \"Luis\", apellido = \"Maldonado\"):\n",
    "    print(\"Hola mundo, estoy creando mi primera funcion\")\n",
    "    print(f\"Mi nombre es {nombre} {apellido}\")"
   ]
  },
  {
   "cell_type": "code",
   "execution_count": 77,
   "metadata": {},
   "outputs": [
    {
     "name": "stdout",
     "output_type": "stream",
     "text": [
      "Hola mundo, estoy creando mi primera funcion\n",
      "Mi nombre es Jose Ramirez\n"
     ]
    }
   ],
   "source": [
    "nombre= \"Jose\"\n",
    "apellido = \"Ramirez\"\n",
    "mi_primera_funcion(nombre, apellido)"
   ]
  },
  {
   "attachments": {},
   "cell_type": "markdown",
   "metadata": {},
   "source": [
    "# DOCSTRING\n",
    "\n",
    "Son comentarios explicativos que ayudan a comprender el funcionamiento de una función.\n",
    "\n",
    "- Van entre triple comilla doble\n",
    "- Pueden ser multilínea\n",
    "- Se sitúan al principio de la definición de la función\n",
    "\n",
    "podríamos utilizar docstring del siguiente modo:"
   ]
  },
  {
   "cell_type": "code",
   "execution_count": 78,
   "metadata": {},
   "outputs": [],
   "source": [
    "def caida_libre(t, h0, v0, g=9.81):\n",
    "  \"\"\"Devuelve la velocidad y la posición de una partícula en\n",
    "  caída libre para condiciones iniciales dadas\n",
    "\n",
    "  Parámetros\n",
    "  ----------\n",
    "  t : float\n",
    "      el tiempo al que queremos realizar el cálculo\n",
    "  h0: float \n",
    "      la altura inicial\n",
    "  v0: float\n",
    "      la velocidad inicial\n",
    "  g : float (opcional)\n",
    "      valor de la aceleración de la gravedad (default = 9.81)\n",
    "\n",
    "  Returns\n",
    "  -------\n",
    "  (v,h):  tuple of floats\n",
    "       v= v0 - g*t\n",
    "       h= h0 - v0*t -g*t^2/2\n",
    "  \"\"\"\n",
    "  v = v0 + g*t\n",
    "  h = h0 - v0*t - g*t**2/2.\n",
    "  return v,h"
   ]
  },
  {
   "cell_type": "code",
   "execution_count": 80,
   "metadata": {},
   "outputs": [
    {
     "name": "stdout",
     "output_type": "stream",
     "text": [
      "Help on function caida_libre in module __main__:\n",
      "\n",
      "caida_libre(t, h0, v0, g=9.81)\n",
      "    Devuelve la velocidad y la posición de una partícula en\n",
      "    caída libre para condiciones iniciales dadas\n",
      "    \n",
      "    Parámetros\n",
      "    ----------\n",
      "    t : float\n",
      "        el tiempo al que queremos realizar el cálculo\n",
      "    h0: float \n",
      "        la altura inicial\n",
      "    v0: float\n",
      "        la velocidad inicial\n",
      "    g : float (opcional)\n",
      "        valor de la aceleración de la gravedad (default = 9.81)\n",
      "    \n",
      "    Returns\n",
      "    -------\n",
      "    (v,h):  tuple of floats\n",
      "         v= v0 - g*t\n",
      "         h= h0 - v0*t -g*t^2/2\n",
      "\n"
     ]
    }
   ],
   "source": [
    "help(caida_libre)"
   ]
  },
  {
   "attachments": {},
   "cell_type": "markdown",
   "metadata": {},
   "source": [
    "---"
   ]
  },
  {
   "cell_type": "markdown",
   "metadata": {},
   "source": [
    "## EJEMPLOS"
   ]
  },
  {
   "cell_type": "code",
   "execution_count": 81,
   "metadata": {},
   "outputs": [],
   "source": [
    "\"\"\" Obtención de números primos.\"\"\"\n",
    "\n",
    "# Se importa la función sqrt.\n",
    "from math import sqrt\n",
    "\n",
    "# Función para evaluar si un número es primo.\n",
    "def fun_primo(numero):\n",
    "    # Importa la función para obtener la raíz cuadrada.\n",
    "    \n",
    "\n",
    "    es_primo = True # Suponemos que SÍ es primo.\n",
    "    divisor = 2     #Se inicia el ciclo con divisor = 2. \n",
    "                        \n",
    "    # Se inicia un ciclo Mientras para buscar un divisor exacto.\n",
    "    while divisor <= sqrt(numero) and es_primo:\n",
    "        cociente = numero//divisor # División entera.\n",
    "        if (numero == cociente*divisor):\n",
    "            es_primo = False # Se encontró un divisor exacto.\n",
    "        else:\n",
    "            divisor = divisor + 1 # Se incrementa el divisor\n",
    "    return (es_primo)\n",
    "\n",
    "# Termina la función.\n",
    "\n"
   ]
  },
  {
   "cell_type": "code",
   "execution_count": 82,
   "metadata": {},
   "outputs": [
    {
     "name": "stdout",
     "output_type": "stream",
     "text": [
      "NO es primo\n"
     ]
    }
   ],
   "source": [
    "# INICIO DEL ALGORITMO PRINCIPAL\n",
    "\n",
    "# Recibe el número a checar:\n",
    "n = int(input(\"Dame un número entero: \"))\n",
    "\n",
    " \n",
    "es_primo = fun_primo(n)\n",
    "if (es_primo):\n",
    "    print(\"SÍ es primo\")\n",
    "else:\n",
    "    print(\"NO es primo\")\n",
    "                \n",
    "# FIN"
   ]
  }
 ],
 "metadata": {
  "kernelspec": {
   "display_name": "base",
   "language": "python",
   "name": "python3"
  },
  "language_info": {
   "codemirror_mode": {
    "name": "ipython",
    "version": 3
   },
   "file_extension": ".py",
   "mimetype": "text/x-python",
   "name": "python",
   "nbconvert_exporter": "python",
   "pygments_lexer": "ipython3",
   "version": "3.12.4"
  },
  "orig_nbformat": 4
 },
 "nbformat": 4,
 "nbformat_minor": 2
}
