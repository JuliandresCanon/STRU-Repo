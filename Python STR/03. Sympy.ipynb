{
 "cells": [
  {
   "cell_type": "code",
   "execution_count": 4,
   "id": "4000a8f4-d3f0-48a7-b42f-fc234e38393c",
   "metadata": {},
   "outputs": [
    {
     "data": {
      "text/latex": [
       "$\\displaystyle \\sqrt{3} + 2$"
      ],
      "text/plain": [
       "√3 + 2"
      ]
     },
     "metadata": {},
     "output_type": "display_data"
    },
    {
     "data": {
      "text/latex": [
       "$\\displaystyle 4 \\sqrt{2}$"
      ],
      "text/plain": [
       "4⋅√2"
      ]
     },
     "metadata": {},
     "output_type": "display_data"
    }
   ],
   "source": [
    "#Importing the library\n",
    "\n",
    "import sympy as sp\n",
    "sp.init_printing(use_latex=\"mathjax\")\n",
    "display(2+sp.sqrt(3))\n",
    "display(sp.sqrt(32))\n"
   ]
  },
  {
   "cell_type": "code",
   "execution_count": 5,
   "id": "d3338649-3e63-4b70-85ee-fab929c81158",
   "metadata": {},
   "outputs": [
    {
     "name": "stdout",
     "output_type": "stream",
     "text": [
      "a + b\n"
     ]
    },
    {
     "data": {
      "text/latex": [
       "$\\displaystyle a + b$"
      ],
      "text/plain": [
       "a + b"
      ]
     },
     "metadata": {},
     "output_type": "display_data"
    },
    {
     "name": "stdout",
     "output_type": "stream",
     "text": [
      "\n",
      "\n",
      "(a + b)**2\n"
     ]
    },
    {
     "data": {
      "text/latex": [
       "$\\displaystyle \\left(a + b\\right)^{2}$"
      ],
      "text/plain": [
       "       2\n",
       "(a + b) "
      ]
     },
     "metadata": {},
     "output_type": "display_data"
    }
   ],
   "source": [
    "#Symbols\n",
    "\n",
    "a, b=sp.symbols(\"a b\")\n",
    "expr1=a+b\n",
    "expr2=expr1**2\n",
    "\n",
    "print(expr1)\n",
    "display(expr1)\n",
    "print(\"\\n\")\n",
    "print(expr2)\n",
    "display(expr2)\n"
   ]
  },
  {
   "cell_type": "code",
   "execution_count": 6,
   "id": "62c9e27e-47fb-4457-9235-4b2f7f2ce551",
   "metadata": {},
   "outputs": [
    {
     "data": {
      "text/latex": [
       "$\\displaystyle x^{2} + \\frac{x y}{3} + y^{2}$"
      ],
      "text/plain": [
       " 2   x⋅y    2\n",
       "x  + ─── + y \n",
       "      3      "
      ]
     },
     "metadata": {},
     "output_type": "display_data"
    },
    {
     "data": {
      "text/latex": [
       "$\\displaystyle y^{2} + \\frac{y}{3} + 1$"
      ],
      "text/plain": [
       " 2   y    \n",
       "y  + ─ + 1\n",
       "     3    "
      ]
     },
     "metadata": {},
     "output_type": "display_data"
    },
    {
     "name": "stdout",
     "output_type": "stream",
     "text": [
      "\n",
      "\n"
     ]
    },
    {
     "data": {
      "text/latex": [
       "$\\displaystyle \\frac{83}{3}$"
      ],
      "text/plain": [
       "83/3"
      ]
     },
     "metadata": {},
     "output_type": "display_data"
    },
    {
     "data": {
      "text/latex": [
       "$\\displaystyle 27.667$"
      ],
      "text/plain": [
       "27.667"
      ]
     },
     "metadata": {},
     "output_type": "display_data"
    }
   ],
   "source": [
    "#The subs() command and numerical evaluation\n",
    "\n",
    "x, y=sp.symbols(\"x y\")\n",
    "f=x**2+y**2+sp.Rational(1,3)*x*y\n",
    "display(f)\n",
    "\n",
    "res1=f.subs(x,1)\n",
    "display(res1)\n",
    "print(\"\\n\")\n",
    "\n",
    "res2=f.subs([(x,1), (y,5)])\n",
    "display(res2)\n",
    "display(res2.evalf(5))\n"
   ]
  },
  {
   "cell_type": "code",
   "execution_count": 7,
   "id": "20c3580c-5e9d-4453-ae00-997a870ad40f",
   "metadata": {},
   "outputs": [
    {
     "data": {
      "text/latex": [
       "$\\displaystyle x^{2} + \\frac{x}{2} - 5$"
      ],
      "text/plain": [
       " 2   x    \n",
       "x  + ─ - 5\n",
       "     2    "
      ]
     },
     "metadata": {},
     "output_type": "display_data"
    },
    {
     "data": {
      "text/latex": [
       "$\\displaystyle 2 x + \\frac{1}{2}$"
      ],
      "text/plain": [
       "2⋅x + 1/2"
      ]
     },
     "metadata": {},
     "output_type": "display_data"
    },
    {
     "name": "stdout",
     "output_type": "stream",
     "text": [
      "\n",
      "\n"
     ]
    },
    {
     "data": {
      "text/latex": [
       "$\\displaystyle \\frac{x^{3}}{3} + \\frac{x^{2}}{4} - 5 x$"
      ],
      "text/plain": [
       " 3    2      \n",
       "x    x       \n",
       "── + ── - 5⋅x\n",
       "3    4       "
      ]
     },
     "metadata": {},
     "output_type": "display_data"
    },
    {
     "data": {
      "text/latex": [
       "$\\displaystyle - \\frac{15}{4}$"
      ],
      "text/plain": [
       "-15/4"
      ]
     },
     "metadata": {},
     "output_type": "display_data"
    }
   ],
   "source": [
    "#Calculus\n",
    "\n",
    "x=sp.symbols(\"x\")\n",
    "expr=x**2+sp.Rational(1,2)*x-5\n",
    "display(expr)\n",
    "derivative=sp.diff(expr,x)\n",
    "display(derivative)\n",
    "print(\"\\n\")\n",
    "\n",
    "integral1=sp.integrate(expr,x)\n",
    "display(integral1)\n",
    "integral2=sp.integrate(expr,(x, 0, 3))\n",
    "display(integral2)\n"
   ]
  },
  {
   "cell_type": "code",
   "execution_count": 8,
   "id": "72acc10e-1292-45c6-82fc-cb3f70d3dc8a",
   "metadata": {},
   "outputs": [
    {
     "data": {
      "text/latex": [
       "$\\displaystyle x^{2} - 4 = 0$"
      ],
      "text/plain": [
       " 2        \n",
       "x  - 4 = 0"
      ]
     },
     "metadata": {},
     "output_type": "display_data"
    },
    {
     "data": {
      "text/latex": [
       "$\\displaystyle \\left\\{-2, 2\\right\\}$"
      ],
      "text/plain": [
       "{-2, 2}"
      ]
     },
     "execution_count": 8,
     "metadata": {},
     "output_type": "execute_result"
    }
   ],
   "source": [
    "#Solvers Equations\n",
    "\n",
    "x=sp.symbols(\"x\")\n",
    "my_eq=sp.Eq(x**2-4,0)\n",
    "display(my_eq)\n",
    "sp.solveset(my_eq,x)\n"
   ]
  },
  {
   "cell_type": "code",
   "execution_count": 9,
   "id": "99b92f9b-9418-43f4-b442-dfb0cd47f5cf",
   "metadata": {},
   "outputs": [
    {
     "data": {
      "text/latex": [
       "$\\displaystyle \\left\\{2 n \\pi + \\frac{\\pi}{2}\\; \\middle|\\; n \\in \\mathbb{Z}\\right\\} \\cup \\left\\{2 n \\pi + \\frac{3 \\pi}{2}\\; \\middle|\\; n \\in \\mathbb{Z}\\right\\}$"
      ],
      "text/plain": [
       "⎧        π │      ⎫   ⎧        3⋅π │      ⎫\n",
       "⎨2⋅n⋅π + ─ │ n ∊ ℤ⎬ ∪ ⎨2⋅n⋅π + ─── │ n ∊ ℤ⎬\n",
       "⎩        2 │      ⎭   ⎩         2  │      ⎭"
      ]
     },
     "metadata": {},
     "output_type": "display_data"
    },
    {
     "data": {
      "text/latex": [
       "$\\displaystyle \\left\\{- \\frac{15}{2}\\right\\}$"
      ],
      "text/plain": [
       "{-15/2}"
      ]
     },
     "metadata": {},
     "output_type": "display_data"
    },
    {
     "data": {
      "text/latex": [
       "$\\displaystyle - \\frac{15}{2}$"
      ],
      "text/plain": [
       "-15/2"
      ]
     },
     "metadata": {},
     "output_type": "display_data"
    }
   ],
   "source": [
    "#The solveset command\n",
    "\n",
    "x=sp.symbols(\"x\")\n",
    "res1=sp.solveset(sp.cos(x)*2, x)\n",
    "display(res1)\n",
    "res2=sp.solveset(sp.Rational(2,5)*x+3, x)\n",
    "display(res2)\n",
    "display(res2.args[0])\n"
   ]
  },
  {
   "cell_type": "code",
   "execution_count": 10,
   "id": "12f11a6c-a80b-460e-aeba-feeaebaa7c03",
   "metadata": {},
   "outputs": [
    {
     "data": {
      "text/latex": [
       "$\\displaystyle \\left[ x + y - 4, \\  x - y - 9\\right]$"
      ],
      "text/plain": [
       "[x + y - 4, x - y - 9]"
      ]
     },
     "metadata": {},
     "output_type": "display_data"
    },
    {
     "data": {
      "text/latex": [
       "$\\displaystyle \\left( \\frac{13}{2}, \\  - \\frac{5}{2}\\right)$"
      ],
      "text/plain": [
       "(13/2, -5/2)"
      ]
     },
     "metadata": {},
     "output_type": "display_data"
    },
    {
     "name": "stdout",
     "output_type": "stream",
     "text": [
      "\n",
      "\n"
     ]
    },
    {
     "data": {
      "text/latex": [
       "$\\displaystyle \\left[ 2 x^{2} + 3 x - y - 1, \\  3 x + 2 y - 5\\right]$"
      ],
      "text/plain": [
       "⎡   2                             ⎤\n",
       "⎣2⋅x  + 3⋅x - y - 1, 3⋅x + 2⋅y - 5⎦"
      ]
     },
     "metadata": {},
     "output_type": "display_data"
    },
    {
     "data": {
      "text/latex": [
       "$\\displaystyle \\left\\{\\left( - \\frac{9}{8} + \\frac{\\sqrt{193}}{8}, \\  \\frac{67}{16} - \\frac{3 \\sqrt{193}}{16}\\right), \\left( - \\frac{\\sqrt{193}}{8} - \\frac{9}{8}, \\  \\frac{3 \\sqrt{193}}{16} + \\frac{67}{16}\\right)\\right\\}$"
      ],
      "text/plain": [
       "⎧⎛  9   √193  67   3⋅√193⎞  ⎛  √193   9  3⋅√193   67⎞⎫\n",
       "⎨⎜- ─ + ────, ── - ──────⎟, ⎜- ──── - ─, ────── + ──⎟⎬\n",
       "⎩⎝  8    8    16     16  ⎠  ⎝   8     8    16     16⎠⎭"
      ]
     },
     "metadata": {},
     "output_type": "display_data"
    }
   ],
   "source": [
    "#Systems of equations: linsolve and nonlinsolve\n",
    "\n",
    "x, y=sp.symbols(\"x y\")\n",
    "display([x+y-4, x-y-9])\n",
    "res1=sp.linsolve([x+y-4, x-y-9], (x,y))\n",
    "display(res1.args[0])\n",
    "\n",
    "print(\"\\n\")\n",
    "display([2*x**2+3*x-y-1, 3*x+2*y-5])\n",
    "res2=sp.nonlinsolve([2*x**2+3*x-y-1, 3*x+2*y-5],(x,y))\n",
    "display(res2)\n"
   ]
  },
  {
   "cell_type": "code",
   "execution_count": 12,
   "id": "13be9b90-2c30-4f29-8770-dfea93b5f3b6",
   "metadata": {},
   "outputs": [
    {
     "data": {
      "text/latex": [
       "$\\displaystyle x^{2} - 3 = 0$"
      ],
      "text/plain": [
       " 2        \n",
       "x  - 3 = 0"
      ]
     },
     "metadata": {},
     "output_type": "display_data"
    },
    {
     "data": {
      "text/latex": [
       "$\\displaystyle \\left\\{- \\sqrt{3}, \\sqrt{3}\\right\\}$"
      ],
      "text/plain": [
       "{-√3, √3}"
      ]
     },
     "execution_count": 12,
     "metadata": {},
     "output_type": "execute_result"
    }
   ],
   "source": [
    "#Solvers Equations\n",
    "\n",
    "y=sp.symbols(\"x\")\n",
    "my_eq2=sp.Eq(x**2+6-9,0)\n",
    "display(my_eq2)\n",
    "sp.solveset(my_eq2,y)\n"
   ]
  },
  {
   "cell_type": "code",
   "execution_count": null,
   "id": "b641795f-c0ba-4ec5-a4c6-6e7fc736cfa5",
   "metadata": {},
   "outputs": [],
   "source": []
  }
 ],
 "metadata": {
  "kernelspec": {
   "display_name": "Python 3 (ipykernel)",
   "language": "python",
   "name": "python3"
  },
  "language_info": {
   "codemirror_mode": {
    "name": "ipython",
    "version": 3
   },
   "file_extension": ".py",
   "mimetype": "text/x-python",
   "name": "python",
   "nbconvert_exporter": "python",
   "pygments_lexer": "ipython3",
   "version": "3.12.4"
  }
 },
 "nbformat": 4,
 "nbformat_minor": 5
}
