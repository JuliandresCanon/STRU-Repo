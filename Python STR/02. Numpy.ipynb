{
 "cells": [
  {
   "cell_type": "code",
   "execution_count": 1,
   "id": "24de35e5-1926-45d0-b559-225e6cc4687e",
   "metadata": {},
   "outputs": [
    {
     "name": "stdout",
     "output_type": "stream",
     "text": [
      "[0. 0. 0. 0.]\n"
     ]
    }
   ],
   "source": [
    "#Importing the library\n",
    "\n",
    "import numpy as np\n",
    "a=np.zeros((4))\n",
    "print(a)\n"
   ]
  },
  {
   "cell_type": "code",
   "execution_count": 3,
   "id": "2894b830-dc7f-4ad2-b61c-d2183b23fea0",
   "metadata": {},
   "outputs": [
    {
     "name": "stdout",
     "output_type": "stream",
     "text": [
      "a=[1 2 3 4]\n",
      "b=[[1.  2. ]\n",
      " [3.5 4.2]]\n"
     ]
    }
   ],
   "source": [
    "#Creating arrays\n",
    "\n",
    "a=np.array([1,2,3,4])\n",
    "b=np.array([[1,2],[3.5, 4.2]])\n",
    "print(\"a={0}\".format(a))\n",
    "print(\"b={0}\".format(b))\n"
   ]
  },
  {
   "cell_type": "code",
   "execution_count": 4,
   "id": "c8c2afc1-ff09-4115-872c-8212fdba72d7",
   "metadata": {},
   "outputs": [
    {
     "name": "stdout",
     "output_type": "stream",
     "text": [
      "a=[0. 0. 0.]\n",
      "b=[[1 1 1]\n",
      " [1 1 1]]\n"
     ]
    }
   ],
   "source": [
    "#Arrays of zeros or ones\n",
    "\n",
    "a=np.zeros((3))\n",
    "b=np.ones((2,3), dtype=int)\n",
    "print(\"a={0}\".format(a))\n",
    "print(\"b={0}\".format(b))\n"
   ]
  },
  {
   "cell_type": "code",
   "execution_count": 12,
   "id": "e38668a2-7009-42a2-9639-a0c44bc1d23d",
   "metadata": {},
   "outputs": [
    {
     "name": "stdout",
     "output_type": "stream",
     "text": [
      "a=[ 1.   2.8  4.6  6.4  8.2 10. ]\n"
     ]
    }
   ],
   "source": [
    "#Array that contains a sequence of numbers that goes from a starting value to an ending value\n",
    "\n",
    "a=np.linspace(1,10,6)\n",
    "print(\"a={0}\".format(a))\n"
   ]
  },
  {
   "cell_type": "code",
   "execution_count": 24,
   "id": "edf0133e-e6e2-480a-9c6f-d96f83a5ea9d",
   "metadata": {},
   "outputs": [
    {
     "name": "stdout",
     "output_type": "stream",
     "text": [
      "a=[1 2 3 4 5 6 7 8 9]\n",
      "dim = 1\n",
      "shape = (9,)\n",
      "size = 9\n",
      "dtype = int64\n"
     ]
    }
   ],
   "source": [
    "#sequence of numbers you specify a step\n",
    "\n",
    "a=np.arange(1,10,1)\n",
    "print(\"a={0}\".format(a))\n",
    "\n",
    "print(\"dim =\", a.ndim)\n",
    "print(\"shape =\", a.shape)\n",
    "print(\"size =\", a.size)\n",
    "print(\"dtype =\", a.dtype)\n"
   ]
  },
  {
   "cell_type": "code",
   "execution_count": 25,
   "id": "474b2131-db13-4f1a-b9e6-ebcb01a12db1",
   "metadata": {},
   "outputs": [
    {
     "name": "stdout",
     "output_type": "stream",
     "text": [
      "dim = 2\n",
      "shape = (2, 2)\n",
      "size = 4\n",
      "dtype = int64\n"
     ]
    }
   ],
   "source": [
    "#Retrieving an array's dimension and dtype\n",
    "\n",
    "a=np.array([[1,2],[3,4]])\n",
    "\n",
    "print(\"dim =\", a.ndim)\n",
    "print(\"shape =\", a.shape)\n",
    "print(\"size =\", a.size)\n",
    "print(\"dtype =\", a.dtype)\n"
   ]
  },
  {
   "cell_type": "code",
   "execution_count": 27,
   "id": "1a2c8287-52f8-4dad-9cca-20994f294126",
   "metadata": {},
   "outputs": [
    {
     "name": "stdout",
     "output_type": "stream",
     "text": [
      "16.0\n",
      "3\n"
     ]
    }
   ],
   "source": [
    "#How to access and modify the elements of an array\n",
    "\n",
    "a=np.array([2.45, 3.75])\n",
    "a[0]=16\n",
    "b=np.array([[0,1],[2,3]])\n",
    "print(a[0])\n",
    "print(b[1,1])\n"
   ]
  },
  {
   "cell_type": "code",
   "execution_count": 28,
   "id": "9cff39c6-1d98-45b7-89f3-caa17202d84a",
   "metadata": {},
   "outputs": [
    {
     "name": "stdout",
     "output_type": "stream",
     "text": [
      "[ 3  6 11 20]\n",
      "[ -1  -2  -5 -12]\n",
      "[ 2  8 24 64]\n",
      "[0.5   0.5   0.375 0.25 ]\n",
      "[ 1  4  9 16]\n",
      "[1.41421356 2.         2.82842712 4.        ]\n"
     ]
    }
   ],
   "source": [
    "#Mathematical operations between arrays\n",
    "\n",
    "a=np.array([1,2,3,4])\n",
    "b=np.array([2,4,8,16])\n",
    "print(a+b)\n",
    "print(a-b)\n",
    "print(a*b)\n",
    "print(a/b)\n",
    "print(a**2)\n",
    "print(np.sqrt(b))\n"
   ]
  },
  {
   "cell_type": "code",
   "execution_count": 30,
   "id": "291b227c-b6d5-4cff-ae6f-13be64cde300",
   "metadata": {},
   "outputs": [
    {
     "name": "stdout",
     "output_type": "stream",
     "text": [
      "[[18 36]\n",
      " [38 76]]\n"
     ]
    }
   ],
   "source": [
    "#perform the matrix product\n",
    "\n",
    "a=np.array([[1,2],[3,4]])\n",
    "b=np.array([[2,4],[8,16]])\n",
    "print(a@b)\n"
   ]
  },
  {
   "cell_type": "code",
   "execution_count": 31,
   "id": "93027803-c9a7-49ba-882f-895b0438d100",
   "metadata": {},
   "outputs": [
    {
     "name": "stdout",
     "output_type": "stream",
     "text": [
      "[ 0.  1.  2.  3.  4.  5.  6.  7.  8.  9. 10.]\n",
      "[2. 3. 4.]\n",
      "[1. 3. 5. 7.]\n"
     ]
    }
   ],
   "source": [
    "#slicing operations for onedimensional arrays:\n",
    "\n",
    "a=np.linspace(0,10,11)\n",
    "print(a)\n",
    "print(a[2:5])\n",
    "print(a[1:8:2])\n"
   ]
  },
  {
   "cell_type": "code",
   "execution_count": 35,
   "id": "c4b6efdd-9f7d-4f95-932a-908ed5481c66",
   "metadata": {},
   "outputs": [
    {
     "name": "stdout",
     "output_type": "stream",
     "text": [
      "[ 3  7 11 15]\n",
      "[13 14 15 16]\n",
      "[[ 3  4]\n",
      " [ 7  8]\n",
      " [11 12]\n",
      " [15 16]]\n"
     ]
    }
   ],
   "source": [
    "#Multidimensional arrays\n",
    "\n",
    "mat=np.array([[1,2,3,4],[5,6,7,8],[9,10,11,12],[13,14,15,16]])\n",
    "print(mat[:,2])\n",
    "print(mat[3,:])\n",
    "print(mat[:,2:4])\n"
   ]
  },
  {
   "cell_type": "code",
   "execution_count": 36,
   "id": "6dc13ecb-7b02-4b1e-a7dc-855301baa9c1",
   "metadata": {},
   "outputs": [
    {
     "name": "stdout",
     "output_type": "stream",
     "text": [
      "[1 1 2 2 3 3]\n",
      "[[1 1]\n",
      " [2 2]\n",
      " [3 3]]\n"
     ]
    }
   ],
   "source": [
    "#Array union and concatenation\n",
    "\n",
    "a=np.array([1,1])\n",
    "b=np.array([2,2])\n",
    "c=np.array([3,3])\n",
    "print(np.hstack((a,b,c)))\n",
    "print(np.vstack((a,b,c)))\n"
   ]
  },
  {
   "cell_type": "code",
   "execution_count": 37,
   "id": "6e8e12d6-7f19-4aef-92a4-0b50615a7af7",
   "metadata": {},
   "outputs": [
    {
     "name": "stdout",
     "output_type": "stream",
     "text": [
      "[1 2 3]\n",
      "[1 2 3 4]\n",
      "[1 2 7 3 4]\n"
     ]
    }
   ],
   "source": [
    "#Insert new elements inside the array:\n",
    "\n",
    "a=np.array([1,2,3])\n",
    "print(a)\n",
    "a=np.append(a,4)\n",
    "print(a)\n",
    "a=np.insert(a,2,7)\n",
    "print(a)\n"
   ]
  },
  {
   "cell_type": "code",
   "execution_count": null,
   "id": "3b07c28b-8bd4-4876-b1d3-b1121b1fa359",
   "metadata": {},
   "outputs": [],
   "source": []
  }
 ],
 "metadata": {
  "kernelspec": {
   "display_name": "Python 3 (ipykernel)",
   "language": "python",
   "name": "python3"
  },
  "language_info": {
   "codemirror_mode": {
    "name": "ipython",
    "version": 3
   },
   "file_extension": ".py",
   "mimetype": "text/x-python",
   "name": "python",
   "nbconvert_exporter": "python",
   "pygments_lexer": "ipython3",
   "version": "3.12.4"
  }
 },
 "nbformat": 4,
 "nbformat_minor": 5
}
