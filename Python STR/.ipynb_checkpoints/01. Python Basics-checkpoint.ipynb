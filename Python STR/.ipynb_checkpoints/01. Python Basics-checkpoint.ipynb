{
 "cells": [
  {
   "cell_type": "code",
   "execution_count": 90,
   "id": "1271d338-ac0d-4cda-8259-c2b5e0dae2a7",
   "metadata": {},
   "outputs": [
    {
     "name": "stdout",
     "output_type": "stream",
     "text": [
      "3\n"
     ]
    }
   ],
   "source": [
    "#Integer numbers\n",
    "\n",
    "a=1\n",
    "b=2\n",
    "c=a+b\n",
    "print(c)\n"
   ]
  },
  {
   "cell_type": "code",
   "execution_count": 91,
   "id": "4fd40327-b35a-4401-ad20-e7cea9908fa9",
   "metadata": {},
   "outputs": [
    {
     "name": "stdout",
     "output_type": "stream",
     "text": [
      "<class 'float'>\n",
      "19441.069258809235\n"
     ]
    }
   ],
   "source": [
    "#Floating point numbers\n",
    "\n",
    "a=1.0 #this is a floating point number\n",
    "b=12.345 #this another floating point number\n",
    "c=2.4e5 #this is a floating point number specified using scientific notation\n",
    "\n",
    "print(type(a))\n",
    "print(c/b)\n"
   ]
  },
  {
   "cell_type": "code",
   "execution_count": 92,
   "id": "83a95c7b-1179-4fca-8092-51208bb66568",
   "metadata": {},
   "outputs": [
    {
     "name": "stdout",
     "output_type": "stream",
     "text": [
      "Hello\n",
      "World\n",
      "The quick 'brown' fox jumps \"over\" the lazy dog\n"
     ]
    }
   ],
   "source": [
    "#Boolean values\n",
    "\n",
    "string_1=\"Hello\"\n",
    "string_2='World'\n",
    "string_3=\"The quick 'brown' fox jumps \\\"over\\\" the lazy dog\"\n",
    "print(string_1)\n",
    "print(string_2)\n",
    "print(string_3)\n"
   ]
  },
  {
   "cell_type": "code",
   "execution_count": 93,
   "id": "879fb222-3edb-47f6-a90e-c7e2b28d977b",
   "metadata": {},
   "outputs": [
    {
     "name": "stdout",
     "output_type": "stream",
     "text": [
      "Hello World\n",
      "The result of 2+2 is: 4\n"
     ]
    }
   ],
   "source": [
    "#Strings (str)\n",
    "\n",
    "a=\"Hello\"+\" World\"\n",
    "b=2+2\n",
    "print(a)\n",
    "print(\"The result of 2+2 is: {0}\".format(b))\n"
   ]
  },
  {
   "cell_type": "code",
   "execution_count": 94,
   "id": "ccc69717-6d2b-4ec0-8187-0e54f0bf6744",
   "metadata": {},
   "outputs": [
    {
     "name": "stdout",
     "output_type": "stream",
     "text": [
      "a=12 and b=3\n"
     ]
    }
   ],
   "source": [
    "#Concatenate strings\n",
    "\n",
    "a=12\n",
    "b=3\n",
    "print(\"a={0} and b={1}\".format(a,b))\n"
   ]
  },
  {
   "cell_type": "code",
   "execution_count": 95,
   "id": "35448da2-08ab-4c80-89c9-4b7177214d50",
   "metadata": {},
   "outputs": [
    {
     "name": "stdout",
     "output_type": "stream",
     "text": [
      "a=2.38 and b=5\n"
     ]
    }
   ],
   "source": [
    "#String formatting\n",
    "\n",
    "a=2.3847567838\n",
    "b=5\n",
    "print(\"a=%.2f and b=%d\"%(a,b))\n",
    "\n",
    "#The letter %.2f specifies a floating point number, and the letter %d specifies an integer number.\n"
   ]
  },
  {
   "cell_type": "code",
   "execution_count": 96,
   "id": "5fc7ad79-dda5-4332-a32b-34a6b1af395d",
   "metadata": {},
   "outputs": [
    {
     "name": "stdout",
     "output_type": "stream",
     "text": [
      "[1, 2, 3, 4]\n",
      "['hello', 2, 4.15, [1, 2, 3, 4]]\n",
      "[[1, 2, 3, 4], [5, 6, 7, 8], [9, 10, 11, 12]]\n"
     ]
    }
   ],
   "source": [
    "#Lists (list)\n",
    "\n",
    "myList1=[1,2,3,4] # this creates a list of integers\n",
    "myList2=[\"hello\", 2, 4.15, myList1]\n",
    "mat=[[1,2,3,4],[5,6,7,8],[9,10,11,12]]\n",
    "print(myList1)\n",
    "print(myList2)\n",
    "print(mat)"
   ]
  },
  {
   "cell_type": "code",
   "execution_count": 97,
   "id": "b64ed12f-e625-494d-b1b4-e2bedd643cb7",
   "metadata": {},
   "outputs": [
    {
     "name": "stdout",
     "output_type": "stream",
     "text": [
      "2\n",
      "[2, 'hello', 16, 32]\n",
      "6\n"
     ]
    }
   ],
   "source": [
    "#Lists (index)\n",
    "\n",
    "a=[2, 4, 16, 32]\n",
    "print(a[0]) #prints the first element of a\n",
    "a[1]=\"hello\" # assign 'hello' to the second position of a\n",
    "print(a)\n",
    "b=[[3,6],[9,12]]\n",
    "print(b[0][1]) #prints element in position 0,1 of b\n"
   ]
  },
  {
   "cell_type": "code",
   "execution_count": 98,
   "id": "55d7d370-6853-4d85-b839-2f17a95be10e",
   "metadata": {},
   "outputs": [
    {
     "name": "stdout",
     "output_type": "stream",
     "text": [
      "append: ['dog', 'cat', 'lion', 'seal']\n",
      "insert: ['dog', 'cat', 'cat', 'lion', 'seal']\n",
      "remove: ['cat', 'cat', 'lion', 'seal']\n",
      "pop: ['cat', 'cat', 'lion']\n",
      "extend: ['cat', 'cat', 'lion', 'apple', 'pear']\n",
      "copy: ['cat', 'cat', 'lion', 'apple', 'pear']\n",
      "count: ['cat', 'cat', 'lion', 'apple', 'pear']\n",
      "index: ['cat', 'cat', 'lion', 'apple', 'pear']\n",
      "insert: ['cat', 'cow', 'cat', 'lion', 'apple', 'pear']\n",
      "pop: ['cow', 'cat', 'lion', 'apple', 'pear']\n",
      "reverse: ['pear', 'apple', 'lion', 'cat', 'cow']\n",
      "sort: ['apple', 'cat', 'cow', 'lion', 'pear']\n"
     ]
    }
   ],
   "source": [
    "#Lists (method)\n",
    "\n",
    "a=[\"dog\", \"cat\", \"lion\"]\n",
    "a.append(\"seal\")\n",
    "print(\"append: {0}\".format(a))\n",
    "a.insert(2, \"cat\")\n",
    "print(\"insert: {0}\".format(a))\n",
    "a.remove(\"dog\")\n",
    "print(\"remove: {0}\".format(a))\n",
    "a.pop(3)\n",
    "print(\"pop: {0}\".format(a))\n",
    "a.extend([\"apple\", \"pear\"])\n",
    "print(\"extend: {0}\".format(a))\n",
    "b=a.copy()\n",
    "print(\"copy: {0}\".format(b))\n",
    "#---\n",
    "b.count(\"cat\")\n",
    "print(\"count: {0}\".format(b))\n",
    "b.index(\"pear\")\n",
    "print(\"index: {0}\".format(b))\n",
    "b.insert(1, \"cow\")\n",
    "print(\"insert: {0}\".format(b))\n",
    "b.pop(0)\n",
    "print(\"pop: {0}\".format(b))\n",
    "b.reverse()\n",
    "print(\"reverse: {0}\".format(b))\n",
    "b.sort()\n",
    "print(\"sort: {0}\".format(b))"
   ]
  },
  {
   "cell_type": "code",
   "execution_count": 99,
   "id": "d15bd225-f2b0-42b5-ac64-e25219f56666",
   "metadata": {},
   "outputs": [
    {
     "name": "stdout",
     "output_type": "stream",
     "text": [
      "steel\n"
     ]
    }
   ],
   "source": [
    "#Dictionaries (dict)\n",
    "\n",
    "mydict={\"object\" : \"beam\",\n",
    "        \"material\" : \"steel\",\n",
    "        \"type\" : \"IPE120\",\n",
    "        \"h\" : 120,\n",
    "        \"b\" : 64}\n",
    "\n",
    "print(mydict[\"material\"])\n"
   ]
  },
  {
   "cell_type": "code",
   "execution_count": 100,
   "id": "0ff8bd2d-c0ab-4212-8e4c-93c8661301ca",
   "metadata": {},
   "outputs": [
    {
     "name": "stdout",
     "output_type": "stream",
     "text": [
      "(1, 2, 3, 'apple', 7, 37)\n",
      "1\n",
      "5\n"
     ]
    }
   ],
   "source": [
    "#Tuples\n",
    "\n",
    "mytuple=(1,2,3,\"apple\",7,37)\n",
    "print(mytuple)\n",
    "print(mytuple.count(\"apple\"))\n",
    "print(mytuple.index(37))\n"
   ]
  },
  {
   "cell_type": "code",
   "execution_count": 101,
   "id": "099f89f2-1484-4f42-a866-82f7f0c8a1fe",
   "metadata": {},
   "outputs": [
    {
     "name": "stdout",
     "output_type": "stream",
     "text": [
      "x is smaller than y\n"
     ]
    }
   ],
   "source": [
    "#Conditions and statements\n",
    "\n",
    "x=3\n",
    "y=5\n",
    "if x<y:\n",
    "    print(\"x is smaller than y\")\n",
    "else:\n",
    "    print(\"x is greater than y\")\n",
    "\n",
    "#In python, indentation is instead used to specify blocks of code, and is mandatory for the code to work.\n"
   ]
  },
  {
   "cell_type": "code",
   "execution_count": 102,
   "id": "99ded9c7-36e0-450a-99ca-6dc5ca01d57e",
   "metadata": {},
   "outputs": [
    {
     "name": "stdout",
     "output_type": "stream",
     "text": [
      "This is a steel beam\n"
     ]
    }
   ],
   "source": [
    "#The ELIF statement and logical operators\n",
    "\n",
    "beam = {\"mat\" : \"steel\", \"E\" : 210000}\n",
    "if beam[\"mat\"] == \"concrete\":\n",
    "    print(\"This is a concrete beam\")\n",
    "elif beam[\"mat\"] == \"steel\":\n",
    "    print(\"This is a steel beam\")\n",
    "elif beam[\"mat\"] == \"wood\":\n",
    "    print(\"This is a wooden beam\")\n",
    "else:\n",
    "    print(\"I do not recognize the material\")\n",
    "    "
   ]
  },
  {
   "cell_type": "code",
   "execution_count": 103,
   "id": "43f505d1-d3e7-4ca7-86ca-3f49a6589dc0",
   "metadata": {},
   "outputs": [
    {
     "name": "stdout",
     "output_type": "stream",
     "text": [
      "a<b<c\n"
     ]
    }
   ],
   "source": [
    "#logical operators\n",
    "\n",
    "a, b, c = 1, 2, 3\n",
    "if a < b and b < c:\n",
    "    print(\"a<b<c\")\n",
    "    "
   ]
  },
  {
   "cell_type": "code",
   "execution_count": 104,
   "id": "7c89c90d-8674-4176-ab56-1620d7e76015",
   "metadata": {},
   "outputs": [
    {
     "name": "stdout",
     "output_type": "stream",
     "text": [
      "x>y\n",
      "x>y\n",
      "x>y\n"
     ]
    }
   ],
   "source": [
    "#Shorthand notation\n",
    "\n",
    "x, y = 10, 5\n",
    "if x>y: print(\"x>y\")\n",
    "print(\"x>y\") if x>y else print(\"x<y\")\n",
    "print(\"x>y\") if x>y else print(\"x=y\") if x==y else print(\"x<y\")\n"
   ]
  },
  {
   "cell_type": "code",
   "execution_count": 107,
   "id": "f48fcdfd-d94e-4ade-b413-a509fba130a0",
   "metadata": {},
   "outputs": [
    {
     "name": "stdout",
     "output_type": "stream",
     "text": [
      "3\n",
      "5\n"
     ]
    }
   ],
   "source": [
    "#Assignment operators\n",
    "\n",
    "x=3\n",
    "print(x)\n",
    "x=x+2 #the result of x+2 is stored in x\n",
    "print(x)\n"
   ]
  },
  {
   "cell_type": "code",
   "execution_count": 108,
   "id": "cf33810d-b89f-4058-a370-5e999fb4f18e",
   "metadata": {},
   "outputs": [
    {
     "name": "stdout",
     "output_type": "stream",
     "text": [
      "3\n",
      "5\n"
     ]
    }
   ],
   "source": [
    "#Assignment operators (Shorthand)\n",
    "\n",
    "x=3\n",
    "print(x)\n",
    "x+=2 #the result of x+2 is stored in x\n",
    "print(x)\n"
   ]
  },
  {
   "cell_type": "code",
   "execution_count": 109,
   "id": "7c4be062-8c70-4d00-a8b3-933343538ef1",
   "metadata": {},
   "outputs": [
    {
     "name": "stdout",
     "output_type": "stream",
     "text": [
      "a is in myList\n",
      "b is not in myList\n"
     ]
    }
   ],
   "source": [
    "#Membership operators\n",
    "\n",
    "a=3\n",
    "b=12\n",
    "myList=[1,2,3,4,5]\n",
    "\n",
    "if a in myList:\n",
    "    print(\"a is in myList\")\n",
    "else:\n",
    "    print(\"a is not in myList\")\n",
    "if b in myList:\n",
    "    print(\"b is in myList\")\n",
    "else:\n",
    "    print(\"b is not in myList\")\n"
   ]
  },
  {
   "cell_type": "code",
   "execution_count": 112,
   "id": "9d1cd4d6-9458-462d-aeeb-106953a8e886",
   "metadata": {},
   "outputs": [
    {
     "name": "stdout",
     "output_type": "stream",
     "text": [
      "2\n",
      "4\n",
      "8\n",
      "16\n"
     ]
    }
   ],
   "source": [
    "#For loops\n",
    "\n",
    "myList=[2,4,8,16]\n",
    "for i in myList:\n",
    "    print(i)\n",
    "    "
   ]
  },
  {
   "cell_type": "code",
   "execution_count": 117,
   "id": "e9242233-cd9e-455d-a36d-19e6a98bace2",
   "metadata": {},
   "outputs": [
    {
     "name": "stdout",
     "output_type": "stream",
     "text": [
      "0\n",
      "1\n",
      "2\n",
      "3\n"
     ]
    }
   ],
   "source": [
    "#The range() function\n",
    "\n",
    "for i in range(4):\n",
    "    print(i)\n"
   ]
  },
  {
   "cell_type": "code",
   "execution_count": 2,
   "id": "8702aede-6955-45c2-b825-5b8a6c3c1663",
   "metadata": {},
   "outputs": [
    {
     "name": "stdout",
     "output_type": "stream",
     "text": [
      "4 \n",
      "\n",
      "2\n",
      "4\n",
      "8\n",
      "16\n"
     ]
    }
   ],
   "source": [
    "#The range() function cycle through the members\n",
    "\n",
    "myList=[2,4,8,16]\n",
    "list_length=len(myList)\n",
    "print(list_length, \"\\n\")\n",
    "\n",
    "for i in range(list_length):\n",
    "    print(myList[i])\n"
   ]
  },
  {
   "cell_type": "code",
   "execution_count": 153,
   "id": "1bfd1c00-c193-4417-873e-e482b2397184",
   "metadata": {},
   "outputs": [
    {
     "name": "stdout",
     "output_type": "stream",
     "text": [
      "0\n",
      "1\n",
      "2\n"
     ]
    }
   ],
   "source": [
    "#The break statements\n",
    "\n",
    "for i in range(5):\n",
    "    if i==3:\n",
    "        break\n",
    "    print(i)\n"
   ]
  },
  {
   "cell_type": "code",
   "execution_count": 158,
   "id": "a50f209b-3c9c-4b2b-a420-434a571af772",
   "metadata": {},
   "outputs": [
    {
     "name": "stdout",
     "output_type": "stream",
     "text": [
      "0\n",
      "1\n",
      "2\n",
      "4\n"
     ]
    }
   ],
   "source": [
    "#The continue statements\n",
    "\n",
    "for i in range(5):\n",
    "    if i==3:\n",
    "        continue\n",
    "    print(i)\n"
   ]
  },
  {
   "cell_type": "code",
   "execution_count": 161,
   "id": "55ab1a2b-470e-4762-b812-644690926d7a",
   "metadata": {},
   "outputs": [
    {
     "name": "stdout",
     "output_type": "stream",
     "text": [
      "4.0\n"
     ]
    }
   ],
   "source": [
    "#Functions\n",
    "\n",
    "def area(B, b, h):\n",
    "    return (B+b)*h/2\n",
    "    \n",
    "myArea = area(3,1,2)\n",
    "\n",
    "print(myArea)\n"
   ]
  },
  {
   "cell_type": "code",
   "execution_count": 203,
   "id": "14829b25-28cc-4f68-a63f-f65707304e46",
   "metadata": {},
   "outputs": [
    {
     "name": "stdout",
     "output_type": "stream",
     "text": [
      "myVariable = 1\n",
      "myVariable = 5\n",
      "res = 16\n"
     ]
    }
   ],
   "source": [
    "#Variable scope\n",
    "\n",
    "myVariable = 5\n",
    "\n",
    "def myFunc(a): \n",
    "    myVariable = 1\n",
    "    print(\"myVariable =\", myVariable)\n",
    "    return a**2\n",
    "\n",
    "'''The myVariable declared outside of myFunc is a completely \n",
    "different object from the myVariable declared inside of it'''\n",
    "\n",
    "res=myFunc(4)\n",
    "print(\"myVariable =\", myVariable)\n",
    "print(\"res =\",res)\n"
   ]
  },
  {
   "cell_type": "code",
   "execution_count": 207,
   "id": "2423d3d0-a41d-4665-a8e4-1260e5e49f1b",
   "metadata": {},
   "outputs": [
    {
     "name": "stdout",
     "output_type": "stream",
     "text": [
      "50.2656\n",
      "(50.2656, 25.12)\n"
     ]
    }
   ],
   "source": [
    "#Function parameters\n",
    "\n",
    "def myFunc(radius, perimeter=False):\n",
    "    if perimeter==False:\n",
    "        return 3.1416*radius**2\n",
    "    else:\n",
    "        return (3.1416*radius**2, 2*3.14*radius)\n",
    "\n",
    "print(myFunc(4))\n",
    "print(myFunc(4, perimeter=True))\n"
   ]
  },
  {
   "cell_type": "code",
   "execution_count": 209,
   "id": "45fac0d7-137e-434a-9b05-d045920a97a6",
   "metadata": {},
   "outputs": [
    {
     "name": "stdout",
     "output_type": "stream",
     "text": [
      "50.2656\n",
      "25.12\n"
     ]
    }
   ],
   "source": [
    "#Unpacking\n",
    "\n",
    "area, perimeter=myFunc(4, perimeter=True)\n",
    "\n",
    "print(area)\n",
    "print(perimeter)\n"
   ]
  },
  {
   "cell_type": "code",
   "execution_count": null,
   "id": "a82b08ab-0fef-4aed-84c5-4af8a62fbdde",
   "metadata": {},
   "outputs": [],
   "source": []
  }
 ],
 "metadata": {
  "kernelspec": {
   "display_name": "Python 3 (ipykernel)",
   "language": "python",
   "name": "python3"
  },
  "language_info": {
   "codemirror_mode": {
    "name": "ipython",
    "version": 3
   },
   "file_extension": ".py",
   "mimetype": "text/x-python",
   "name": "python",
   "nbconvert_exporter": "python",
   "pygments_lexer": "ipython3",
   "version": "3.12.4"
  }
 },
 "nbformat": 4,
 "nbformat_minor": 5
}
